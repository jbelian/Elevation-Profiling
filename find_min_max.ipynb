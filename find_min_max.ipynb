{
 "cells": [
  {
   "cell_type": "code",
   "execution_count": null,
   "metadata": {},
   "outputs": [],
   "source": [
    "import arcpy\n",
    "import numpy as np"
   ]
  },
  {
   "cell_type": "code",
   "execution_count": null,
   "metadata": {},
   "outputs": [],
   "source": [
    "def pull_column(matrix, i):\n",
    "    return[row[i] for row in matrix]"
   ]
  },
  {
   "cell_type": "code",
   "execution_count": null,
   "metadata": {},
   "outputs": [],
   "source": [
    "proj = arcpy.mp.ArcGISProject('CURRENT')\n",
    "m = proj.listMaps()[5]\n",
    "minmax_output = [['Trail','Minimum','Maximum']]\n",
    "for l in m.listLayers():\n",
    "    if l.isGroupLayer and l.longName == 'trails tables':\n",
    "        tables = l.listTables()\n",
    "        fields = [f.name for f in arcpy.ListFields(l.listTables()[0])]\n",
    "        for table in tables:\n",
    "            arr = arcpy.da.TableToNumPyArray(table, fields)\n",
    "            min = np.min(pull_column(arr,2))\n",
    "            max = np.max(pull_column(arr,2))\n",
    "            minmax_output.append([table.name,min,max])"
   ]
  },
  {
   "cell_type": "code",
   "execution_count": null,
   "metadata": {},
   "outputs": [],
   "source": [
    "numpy.savetxt('trails_min_max_elev.csv', minmax_output, delimiter=',', fmt='%s')"
   ]
  }
 ],
 "metadata": {
  "kernelspec": {
   "display_name": "ArcGISPro",
   "language": "Python",
   "name": "python3"
  },
  "language_info": {
   "file_extension": ".py",
   "name": "python",
   "version": "3"
  }
 },
 "nbformat": 4,
 "nbformat_minor": 2
}
